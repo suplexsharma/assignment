{
 "cells": [
  {
   "cell_type": "markdown",
   "id": "4b856ed5-e2d2-4ddc-87dd-494453230a1b",
   "metadata": {},
   "source": [
    "Q1."
   ]
  },
  {
   "cell_type": "code",
   "execution_count": 1,
   "id": "303f6049-ba26-4489-8bd7-dab056b6fcaf",
   "metadata": {},
   "outputs": [
    {
     "name": "stdout",
     "output_type": "stream",
     "text": [
      "0\n",
      "1\n",
      "2\n",
      "3\n",
      "4\n",
      "5\n",
      "6\n",
      "7\n",
      "8\n",
      "9\n"
     ]
    }
   ],
   "source": [
    "#For loops are used when you have a known number of iterations or\n",
    "#when you want to iterate through a sequence (list, tuple, string, etc.)\n",
    "#to perform an action for each item in the sequence.\n",
    "\n",
    "#Example:\n",
    "\n",
    "# print the numbers 0 to 9\n",
    "for i in range(10):\n",
    "    print(i)\n"
   ]
  },
  {
   "cell_type": "markdown",
   "id": "6590fa28-9714-41e1-849c-9046f8a2fbd2",
   "metadata": {},
   "source": [
    "While loops are used when you want to keep executing a block of code as long as a certain condition is met.\n",
    "\n",
    "Example:\n"
   ]
  },
  {
   "cell_type": "code",
   "execution_count": 2,
   "id": "57954ff3-01ef-457e-889d-b40ea463f757",
   "metadata": {},
   "outputs": [
    {
     "name": "stdout",
     "output_type": "stream",
     "text": [
      "0\n",
      "1\n",
      "2\n",
      "3\n",
      "4\n",
      "5\n",
      "6\n",
      "7\n",
      "8\n",
      "9\n"
     ]
    }
   ],
   "source": [
    "# print the numbers 0 to 9\n",
    "i = 0\n",
    "while i < 10:\n",
    "    print(i)\n",
    "    i += 1"
   ]
  },
  {
   "cell_type": "markdown",
   "id": "73b1fc3e-8df2-4bd8-a3a8-7f2c452bf0ad",
   "metadata": {},
   "source": [
    "Q2."
   ]
  },
  {
   "cell_type": "code",
   "execution_count": 5,
   "id": "9e391754-0e30-4570-bbb0-289593bc7e2e",
   "metadata": {},
   "outputs": [
    {
     "name": "stdout",
     "output_type": "stream",
     "text": [
      "sum is  55\n",
      "product is  3628800\n"
     ]
    }
   ],
   "source": [
    "#sum and product of first 10 natural no.s \n",
    "#using for loop\n",
    "sum=0\n",
    "product=1\n",
    "for i in range(1,11,1):\n",
    "    sum=sum+i\n",
    "    product=product*i\n",
    "print(\"sum is \",sum)\n",
    "print(\"product is \",product)"
   ]
  },
  {
   "cell_type": "code",
   "execution_count": 6,
   "id": "92bd607e-2f76-497a-8ab9-f234d1c3a4cb",
   "metadata": {},
   "outputs": [
    {
     "name": "stdout",
     "output_type": "stream",
     "text": [
      "sum is 55\n",
      "product is 3628800\n"
     ]
    }
   ],
   "source": [
    "#using while loop\n",
    "i=1\n",
    "sum=0\n",
    "product=1\n",
    "while i<=10:\n",
    "    sum=sum+i\n",
    "    product=product*i\n",
    "    i=i+1\n",
    "print(\"sum is\",sum)\n",
    "print(\"product is\",product)"
   ]
  },
  {
   "cell_type": "markdown",
   "id": "ea0a6751-e457-48d8-9a7e-d502c0aa8e58",
   "metadata": {},
   "source": [
    "Q3."
   ]
  },
  {
   "cell_type": "code",
   "execution_count": 9,
   "id": "9a6cfc6f-d739-4fbb-be58-837e64b94cf7",
   "metadata": {},
   "outputs": [
    {
     "name": "stdin",
     "output_type": "stream",
     "text": [
      "Enter electricity consumed 310\n"
     ]
    },
    {
     "name": "stdout",
     "output_type": "stream",
     "text": [
      "your bill is of RS 2250.0\n"
     ]
    }
   ],
   "source": [
    "electricityConsumed=int(input(\"Enter electricity consumed\"))\n",
    "if electricityConsumed<=100:\n",
    "    chargeAmount=electricityConsumed*4.5\n",
    "elif electricityConsumed<=200:\n",
    "    chargeAmount=100*4.5+(electricityConsumed-100)*6\n",
    "elif electricityConsumed<=300:\n",
    "    chargeAmount=100*4.5+100*6+(electricityConsumed-200)*10\n",
    "else:\n",
    "    chargeAmount=100*4.5+100*6+100*10+(electricityConsumed-300)*20\n",
    "print(\"your bill is of RS\",chargeAmount)\n",
    "    \n",
    "    \n",
    "    "
   ]
  },
  {
   "cell_type": "code",
   "execution_count": null,
   "id": "b9121fc5-e5c1-42bd-bd93-a1fe87a20398",
   "metadata": {},
   "outputs": [],
   "source": [
    "Q4."
   ]
  },
  {
   "cell_type": "code",
   "execution_count": 3,
   "id": "234fad61-c54c-4aaa-9c60-76968d26be0f",
   "metadata": {},
   "outputs": [
    {
     "data": {
      "text/plain": [
       "[8,\n",
       " 64,\n",
       " 125,\n",
       " 216,\n",
       " 512,\n",
       " 1000,\n",
       " 1728,\n",
       " 2744,\n",
       " 3375,\n",
       " 4096,\n",
       " 5832,\n",
       " 8000,\n",
       " 10648,\n",
       " 13824,\n",
       " 15625,\n",
       " 17576,\n",
       " 21952,\n",
       " 27000,\n",
       " 32768,\n",
       " 39304,\n",
       " 42875,\n",
       " 46656,\n",
       " 54872,\n",
       " 64000,\n",
       " 74088,\n",
       " 85184,\n",
       " 91125,\n",
       " 97336,\n",
       " 110592,\n",
       " 125000,\n",
       " 140608,\n",
       " 157464,\n",
       " 166375,\n",
       " 175616,\n",
       " 195112,\n",
       " 216000,\n",
       " 238328,\n",
       " 262144,\n",
       " 274625,\n",
       " 287496,\n",
       " 314432,\n",
       " 343000,\n",
       " 373248,\n",
       " 405224,\n",
       " 421875,\n",
       " 438976,\n",
       " 474552,\n",
       " 512000,\n",
       " 551368,\n",
       " 592704,\n",
       " 614125,\n",
       " 636056,\n",
       " 681472,\n",
       " 729000,\n",
       " 778688,\n",
       " 830584,\n",
       " 857375,\n",
       " 884736,\n",
       " 941192,\n",
       " 1000000]"
      ]
     },
     "execution_count": 3,
     "metadata": {},
     "output_type": "execute_result"
    }
   ],
   "source": [
    "l=list(range(1,101))\n",
    "l1=[]\n",
    "for i in l:\n",
    "    if i**3%4==0 or i**3%5==0:\n",
    "        l1.append(i**3)\n",
    "l1\n",
    "        "
   ]
  },
  {
   "cell_type": "markdown",
   "id": "96030016-994a-4e79-8b92-fb0d504ca1a7",
   "metadata": {},
   "source": [
    "Q5."
   ]
  },
  {
   "cell_type": "code",
   "execution_count": 11,
   "id": "19567f66-bf2f-4e8e-a7ed-d18d60921815",
   "metadata": {},
   "outputs": [
    {
     "name": "stdout",
     "output_type": "stream",
     "text": [
      "the total no. vowels present in the given string is 12\n"
     ]
    }
   ],
   "source": [
    "string=\"I want to become a data scientist\"\n",
    "vowels=\"aeiouAEIOU\"\n",
    "count=0\n",
    "for i in string:\n",
    "    if i in vowels:\n",
    "        count=count+1\n",
    "print(\"the total no. vowels present in the given string is\",count)\n",
    "\n",
    "        "
   ]
  },
  {
   "cell_type": "code",
   "execution_count": 15,
   "id": "001af796-ac39-4c2f-a68c-af91645f21ef",
   "metadata": {},
   "outputs": [
    {
     "data": {
      "text/plain": [
       "12"
      ]
     },
     "execution_count": 15,
     "metadata": {},
     "output_type": "execute_result"
    }
   ],
   "source": [
    "#works the same\n",
    "string=\"I want to become a data scientist\"\n",
    "vowels=\"aeiouAEIOU\"\n",
    "len(list(filter(lambda s: s in vowels,string)))"
   ]
  }
 ],
 "metadata": {
  "kernelspec": {
   "display_name": "Python 3 (ipykernel)",
   "language": "python",
   "name": "python3"
  },
  "language_info": {
   "codemirror_mode": {
    "name": "ipython",
    "version": 3
   },
   "file_extension": ".py",
   "mimetype": "text/x-python",
   "name": "python",
   "nbconvert_exporter": "python",
   "pygments_lexer": "ipython3",
   "version": "3.10.8"
  }
 },
 "nbformat": 4,
 "nbformat_minor": 5
}
