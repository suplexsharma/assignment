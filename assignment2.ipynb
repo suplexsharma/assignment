{
 "cells": [
  {
   "cell_type": "code",
   "execution_count": null,
   "id": "94d8da1e-1365-4553-9ae2-15062c3c6c66",
   "metadata": {},
   "outputs": [],
   "source": [
    "Q1."
   ]
  },
  {
   "cell_type": "code",
   "execution_count": 7,
   "id": "a4ee3bef-c201-40e6-8ff7-4ee1b397bdc7",
   "metadata": {},
   "outputs": [
    {
     "name": "stdin",
     "output_type": "stream",
     "text": [
      "enter your percentage 80\n"
     ]
    },
    {
     "name": "stdout",
     "output_type": "stream",
     "text": [
      "C grade\n"
     ]
    }
   ],
   "source": [
    "marks=int(input(\"enter your percentage\"))\n",
    "if marks >90:\n",
    "    print(\"A grade\")\n",
    "elif marks <=90 and marks > 80:\n",
    "    print(\"B grade\")\n",
    "elif marks <=80 and marks >=60:\n",
    "    print(\"C grade\")\n",
    "else:\n",
    "    print(\"D grade\")"
   ]
  },
  {
   "cell_type": "code",
   "execution_count": null,
   "id": "7dda927d-54c9-4e27-aa71-2b30250fe050",
   "metadata": {},
   "outputs": [],
   "source": [
    "Q2."
   ]
  },
  {
   "cell_type": "code",
   "execution_count": 8,
   "id": "4ad856b3-402c-41b6-b28f-02c32ef1e15c",
   "metadata": {},
   "outputs": [
    {
     "name": "stdin",
     "output_type": "stream",
     "text": [
      "Enter cost price 10\n"
     ]
    },
    {
     "name": "stdout",
     "output_type": "stream",
     "text": [
      "5% tax\n"
     ]
    }
   ],
   "source": [
    "costPrice=int(input(\"Enter cost price\"))\n",
    "if costPrice>100000:\n",
    "    print(\"15% tax\")\n",
    "elif costPrice>50000 and costPrice <=100000:\n",
    "    print(\"10% tax\")\n",
    "elif costPrice <= 50000:\n",
    "    print(\"5% tax\")\n",
    "else:\n",
    "    print(\"bad input\")"
   ]
  },
  {
   "cell_type": "code",
   "execution_count": null,
   "id": "d0f05983-c9eb-4d4b-bc62-b3f0b7967b0e",
   "metadata": {},
   "outputs": [],
   "source": [
    "Q3."
   ]
  },
  {
   "cell_type": "code",
   "execution_count": 9,
   "id": "ff8497a7-5ee7-4c23-8150-2a3807f10146",
   "metadata": {},
   "outputs": [
    {
     "name": "stdin",
     "output_type": "stream",
     "text": [
      "enter the city Delhi\n"
     ]
    },
    {
     "name": "stdout",
     "output_type": "stream",
     "text": [
      "Red Fort\n"
     ]
    }
   ],
   "source": [
    "city=input(\"enter the city\")\n",
    "if city =='Delhi':\n",
    "    print(\"Red Fort\")\n",
    "elif city=='Agra':\n",
    "    print(\"Taj Mahal\")\n",
    "elif city== 'Jaipur':\n",
    "    print(\"Jal Mahal\")"
   ]
  },
  {
   "cell_type": "code",
   "execution_count": null,
   "id": "e863a537-589f-40b1-ac86-3692fa1ffce4",
   "metadata": {},
   "outputs": [],
   "source": [
    "Q4."
   ]
  },
  {
   "cell_type": "code",
   "execution_count": 3,
   "id": "e96042e0-8140-4002-bb24-750ce8beba68",
   "metadata": {},
   "outputs": [
    {
     "name": "stdin",
     "output_type": "stream",
     "text": [
      "Enter the number 56\n"
     ]
    },
    {
     "name": "stdout",
     "output_type": "stream",
     "text": [
      "the given no.can be divided by 3, 2 times before it is less than or equal to 10\n"
     ]
    }
   ],
   "source": [
    "number=int(input(\"Enter the number\"))\n",
    "count=0\n",
    "while number>10:\n",
    "    number=number/3\n",
    "    count+=1\n",
    "print(\"the given no.can be divided by 3,\",count,\"times before it is less than or equal to 10\")"
   ]
  },
  {
   "cell_type": "markdown",
   "id": "2ffcbf3b-06f4-4460-a670-0734ffd911d9",
   "metadata": {},
   "source": [
    "Q5."
   ]
  },
  {
   "cell_type": "code",
   "execution_count": 1,
   "id": "fef94b15-b315-4b98-a12b-0f4e4bce5de8",
   "metadata": {},
   "outputs": [
    {
     "name": "stdout",
     "output_type": "stream",
     "text": [
      "1\n",
      "2\n",
      "3\n",
      "4\n",
      "5\n",
      "6\n",
      "7\n",
      "8\n",
      "9\n",
      "10\n"
     ]
    }
   ],
   "source": [
    "# A while loop in Python is used to repeatedly execute a block of code\n",
    "# as long as a certain condition is met.\n",
    "# The loop will keep running as long as the condition is True,\n",
    "# and will exit when the condition becomes False.\n",
    "\n",
    "# Here's the general syntax for a while loop in Python:\n",
    "# while condition:\n",
    "#     # Code to be executed\n",
    "\n",
    "# Here's an example that demonstrates the use of a while loop:\n",
    "# Print the numbers from 1 to 10\n",
    "counter = 1\n",
    "\n",
    "while counter <= 10:\n",
    "    print(counter)\n",
    "    counter += 1\n",
    "\n",
    "# In this example, the while loop will run as long as\n",
    "# the value of counter is less than or equal to 10.\n",
    "# On each iteration of the loop, the value of counter is printed,\n",
    "# and then incremented by 1.\n",
    "# The loop will exit when the value of counter becomes greater than 10.\n",
    "\n",
    "# The while loop is useful when you don't know in advance how many times\n",
    "# you need to loop, and you want to keep looping until a certain condition is met.\n",
    "# For example, you can use a while loop to read data from a file until the end of the file is reached,\n",
    "# or to keep asking the user for input until a valid response is given."
   ]
  },
  {
   "cell_type": "markdown",
   "id": "05e55580-9796-4b18-adae-55af6787e9d6",
   "metadata": {},
   "source": [
    "Q6."
   ]
  },
  {
   "cell_type": "code",
   "execution_count": 6,
   "id": "e6d32cf0-dca7-42e0-abc5-caec1e5f3202",
   "metadata": {},
   "outputs": [
    {
     "name": "stdout",
     "output_type": "stream",
     "text": [
      "Pattern 1\n",
      "1\n",
      "12\n",
      "123\n",
      "1234\n",
      "12345\n",
      "123456\n",
      "1234567\n",
      "12345678\n",
      "123456789\n",
      "----------------------------------------------------------------\n",
      "Pattern 2\n",
      "*\n",
      "**\n",
      "***\n",
      "****\n",
      "*****\n",
      "******\n",
      "*******\n",
      "********\n",
      "*********\n",
      "----------------------------------------------------------------\n",
      "Pattern 3\n",
      "😀😀😆😀😀😆😀😀😆😀😀😆😀😀😆😀😀😆😀😀😆😀😀😆😀😀😆\n",
      "😀😀😆😀😀😆😀😀😆😀😀😆😀😀😆😀😀😆😀😀😆😀😀😆😀😀😆\n",
      "😀😀😆😀😀😆😀😀😆😀😀😆😀😀😆😀😀😆😀😀😆😀😀😆😀😀😆\n",
      "😀😀😆😀😀😆😀😀😆😀😀😆😀😀😆😀😀😆😀😀😆😀😀😆😀😀😆\n",
      "😀😀😆😀😀😆😀😀😆😀😀😆😀😀😆😀😀😆😀😀😆😀😀😆😀😀😆\n",
      "😀😀😆😀😀😆😀😀😆😀😀😆😀😀😆😀😀😆😀😀😆😀😀😆😀😀😆\n",
      "😀😀😆😀😀😆😀😀😆😀😀😆😀😀😆😀😀😆😀😀😆😀😀😆😀😀😆\n",
      "😀😀😆😀😀😆😀😀😆😀😀😆😀😀😆😀😀😆😀😀😆😀😀😆😀😀😆\n",
      "😀😀😆😀😀😆😀😀😆😀😀😆😀😀😆😀😀😆😀😀😆😀😀😆😀😀😆\n"
     ]
    }
   ],
   "source": [
    "print(\"Pattern 1\")\n",
    "\n",
    "i=1\n",
    "j=1\n",
    "\n",
    "while i<10:\n",
    "    \n",
    "    while j<=i:\n",
    "        \n",
    "        print(j, end=\"\")\n",
    "        \n",
    "        j+=1\n",
    "    \n",
    "    print()\n",
    "    \n",
    "    j=1\n",
    "    \n",
    "    i+=1\n",
    "\n",
    "print(\"----------------------------------------------------------------\")\n",
    "print(\"Pattern 2\")\n",
    "\n",
    "i=1\n",
    "j=1\n",
    "\n",
    "while i<10:\n",
    "    \n",
    "    while j<=i:       \n",
    "        print(\"*\", end=\"\")\n",
    "        j+=1\n",
    "    print()\n",
    "    j=1\n",
    "    i+=1\n",
    "print(\"----------------------------------------------------------------\")\n",
    "print(\"Pattern 3\")\n",
    "\n",
    "i=1\n",
    "j=1\n",
    "while i<10:\n",
    "    while j<10:\n",
    "        print(\"\\U0001f600\\U0001f600\", end=\"\\U0001F606\")\n",
    "        j+=1\n",
    "    print()\n",
    "    j=1\n",
    "    i+=1\n"
   ]
  },
  {
   "cell_type": "markdown",
   "id": "813eac64-da5a-4230-b991-7fd170a09220",
   "metadata": {},
   "source": [
    "Q7."
   ]
  },
  {
   "cell_type": "code",
   "execution_count": 7,
   "id": "d6ad915b-c86c-46af-84d9-3a25199091ef",
   "metadata": {},
   "outputs": [
    {
     "name": "stdout",
     "output_type": "stream",
     "text": [
      "10\n",
      "9\n",
      "8\n",
      "7\n",
      "6\n",
      "5\n",
      "4\n",
      "3\n",
      "2\n",
      "1\n"
     ]
    }
   ],
   "source": [
    "i=10\n",
    "while i>=1:\n",
    "    print(i)\n",
    "    i-=1\n",
    "    "
   ]
  }
 ],
 "metadata": {
  "kernelspec": {
   "display_name": "Python 3 (ipykernel)",
   "language": "python",
   "name": "python3"
  },
  "language_info": {
   "codemirror_mode": {
    "name": "ipython",
    "version": 3
   },
   "file_extension": ".py",
   "mimetype": "text/x-python",
   "name": "python",
   "nbconvert_exporter": "python",
   "pygments_lexer": "ipython3",
   "version": "3.10.8"
  }
 },
 "nbformat": 4,
 "nbformat_minor": 5
}
