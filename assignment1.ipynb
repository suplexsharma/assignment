{
 "cells": [
  {
   "cell_type": "code",
   "execution_count": null,
   "id": "13f148eb-cf7e-4dbc-83f5-a88d8a1fc3f9",
   "metadata": {},
   "outputs": [],
   "source": [
    "Q1.Who developed pyton programming language?\n",
    "\n",
    "ans.Python was created by Guido van Rossum, and first released on February 20, 1991. "
   ]
  },
  {
   "cell_type": "code",
   "execution_count": null,
   "id": "38ec2976-9914-4101-bf3b-8ee76ed5107a",
   "metadata": {},
   "outputs": [],
   "source": [
    "Q2.Which type of programming does python support?\n",
    "\n",
    "ans.Python is an interpreted programming language, supporting object-oriented, structured, \n",
    "and functional programming."
   ]
  },
  {
   "cell_type": "code",
   "execution_count": null,
   "id": "ce54b416-796d-4806-8ed7-475aff33ddc7",
   "metadata": {},
   "outputs": [],
   "source": [
    "Q3.Is python case sensitive when dealing with identifiers?\n",
    "\n",
    "ans.Yes, Python is a case-sensitive language, i.e., it treats uppercase and lowercase characters differently.\n",
    "This applies to identifiers too. You must avoid using the same name with different cases while naming identifiers."
   ]
  },
  {
   "cell_type": "code",
   "execution_count": null,
   "id": "e3f7c50a-dbbe-4427-a651-e71f422eaa69",
   "metadata": {},
   "outputs": [],
   "source": [
    "Q4.What is the correct extension of python file?\n",
    "\n",
    "ans.The correct extension of python file is .py"
   ]
  },
  {
   "cell_type": "code",
   "execution_count": null,
   "id": "aedd4383-5265-4869-b0c2-d5d1433b45c0",
   "metadata": {},
   "outputs": [],
   "source": [
    "Q5.Is python code compiled or interpreted?\n",
    "\n",
    "ans.Python is an interpreted language, which means\n",
    "the source code of a Python program is converted into bytecode \n",
    "that is then executed by the Python virtual machine. "
   ]
  },
  {
   "cell_type": "code",
   "execution_count": null,
   "id": "6f42f587-6c9d-4784-9591-f9b5ee3b3992",
   "metadata": {},
   "outputs": [],
   "source": [
    "Q6.Name a few blocks of code used to define in python language?\n",
    "\n",
    "ans.A block is a piece of Python program text that is executed as a unit.\n",
    "The following are blocks: a module, a function body, and a class definition. \n",
    "Each command typed interactively is a block. Also indentation is used to define a block of code in python. "
   ]
  },
  {
   "cell_type": "code",
   "execution_count": null,
   "id": "bdee8b0b-2911-44ac-b447-98ae6f830434",
   "metadata": {},
   "outputs": [],
   "source": [
    "Q7.State a character used to give single-line comments in python?\n",
    "\n",
    "ans.# is used to give single-line comments in python"
   ]
  },
  {
   "cell_type": "code",
   "execution_count": null,
   "id": "1cc5e0e4-37ac-433c-8958-cab5b714dab6",
   "metadata": {},
   "outputs": [],
   "source": [
    "Q8.Mention functions which can help us to find the version of python that we are currently working on?\n",
    "\n",
    "ans.To get the Version of the python Interpreter, they are listed as follows:\n",
    "1.Using sys. version method.\n",
    "2.Using python_version() function.\n",
    "3.Using Python -V command."
   ]
  },
  {
   "cell_type": "code",
   "execution_count": null,
   "id": "3ae9cad2-cf24-4e1d-b825-a1845a9ad8fe",
   "metadata": {},
   "outputs": [],
   "source": [
    "Q9.Python supports the creation of anonymous functions at run time, using a constructor called lambda"
   ]
  },
  {
   "cell_type": "code",
   "execution_count": null,
   "id": "865f6b1a-d329-4a2e-b2bd-701122e39788",
   "metadata": {},
   "outputs": [],
   "source": [
    "Q10.What does pip stand for pyton?\n",
    "ans. preferred installer program"
   ]
  },
  {
   "cell_type": "code",
   "execution_count": null,
   "id": "c999b986-4c64-4013-83a7-afbb7f8eb99a",
   "metadata": {},
   "outputs": [],
   "source": [
    "Q11.Mention a few inbuilt functions in python?\n",
    "ans. some inbuilt functions in python are:\n",
    "    1.int()\n",
    "    2.list()\n",
    "    3.dict()\n",
    "    4.print()\n",
    "    5.input() etc."
   ]
  },
  {
   "cell_type": "code",
   "execution_count": null,
   "id": "0a3d4c5a-ddb0-454a-9041-85145b334360",
   "metadata": {},
   "outputs": [],
   "source": [
    "Q12.what is the maximum possible length of a identifier in python?\n",
    "ans.An identifier can have a maximum length of 79 characters in Python."
   ]
  },
  {
   "cell_type": "code",
   "execution_count": null,
   "id": "bccb0f60-f2b9-4fcc-bb59-374963d30aeb",
   "metadata": {},
   "outputs": [],
   "source": [
    "Q13.What are the benefits of using python?\n",
    "ans.Top Reasons to Learn Python\n",
    "1.Data science.\n",
    "2.Scientific and mathematical computing.\n",
    "3.Web development.\n",
    "4.Finance and trading.\n",
    "5.System automation and administration.\n",
    "6.Computer graphics.\n",
    "7.Basic game development.\n",
    "8.Security and penetration testing."
   ]
  },
  {
   "cell_type": "code",
   "execution_count": null,
   "id": "26e83415-cc7d-4c8d-b1a5-92dcff748558",
   "metadata": {},
   "outputs": [],
   "source": [
    "Q14.How is memory managed in python?\n",
    "ans.Memory management in Python involves a private heap containing all Python objects and data structures.\n",
    "The management of this private heap is ensured internally by the Python memory manager."
   ]
  },
  {
   "cell_type": "code",
   "execution_count": null,
   "id": "fded8e5a-aa7c-4e4b-b0b5-101756757498",
   "metadata": {},
   "outputs": [],
   "source": [
    "Q15.How to install python in windows and set path variables?\n",
    "ans. python can be installed by writing pip python in command prompt.\n",
    "The complete path of python.exe can be added by:\n",
    "1.Right-clicking This PC and going to Properties.\n",
    "2.Clicking on the Advanced system settings in the menu on the left.\n",
    "3.Clicking on the Environment Variables button on the bottom right.\n",
    "4.In the System variables section, selecting the Path variable and clicking on Edit.\n",
    "The next screen will show all the directories that are currently a part of the PATH variable.\n",
    "5.Clicking on New and entering Python’s install directory."
   ]
  },
  {
   "cell_type": "code",
   "execution_count": null,
   "id": "f5c70637-0bce-43ea-a8ed-4daea7c39f09",
   "metadata": {},
   "outputs": [],
   "source": [
    "Q16.Is identation required in python?\n",
    "ans. yes python uses identation to show a block of code.other programming languages such as c,c++ and java uses"
   ]
  }
 ],
 "metadata": {
  "kernelspec": {
   "display_name": "Python 3 (ipykernel)",
   "language": "python",
   "name": "python3"
  },
  "language_info": {
   "codemirror_mode": {
    "name": "ipython",
    "version": 3
   },
   "file_extension": ".py",
   "mimetype": "text/x-python",
   "name": "python",
   "nbconvert_exporter": "python",
   "pygments_lexer": "ipython3",
   "version": "3.10.8"
  }
 },
 "nbformat": 4,
 "nbformat_minor": 5
}
